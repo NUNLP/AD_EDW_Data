{
 "cells": [
  {
   "cell_type": "code",
   "execution_count": 1,
   "metadata": {
    "collapsed": true
   },
   "outputs": [],
   "source": [
    "import pandas as pd"
   ]
  },
  {
   "cell_type": "code",
   "execution_count": 2,
   "metadata": {
    "collapsed": false
   },
   "outputs": [],
   "source": [
    "dat = pd.read_table(\"diagnosis_codes_ids.txt\", sep=\"\\t\")\n",
    "dat.columns = ['patient_id', 'diagnosis', 'vocab', 'value', 'severity', 'date']"
   ]
  },
  {
   "cell_type": "code",
   "execution_count": 3,
   "metadata": {
    "collapsed": false
   },
   "outputs": [
    {
     "data": {
      "text/plain": [
       "115347"
      ]
     },
     "execution_count": 3,
     "metadata": {},
     "output_type": "execute_result"
    }
   ],
   "source": [
    "len(dat.index)"
   ]
  },
  {
   "cell_type": "code",
   "execution_count": 4,
   "metadata": {
    "collapsed": false
   },
   "outputs": [
    {
     "data": {
      "text/plain": [
       "577"
      ]
     },
     "execution_count": 4,
     "metadata": {},
     "output_type": "execute_result"
    }
   ],
   "source": [
    "len(set(dat['patient_id']))"
   ]
  },
  {
   "cell_type": "code",
   "execution_count": 5,
   "metadata": {
    "collapsed": false
   },
   "outputs": [
    {
     "data": {
      "text/html": [
       "<div>\n",
       "<table border=\"1\" class=\"dataframe\">\n",
       "  <thead>\n",
       "    <tr style=\"text-align: right;\">\n",
       "      <th></th>\n",
       "      <th>patient_id</th>\n",
       "      <th>diagnosis</th>\n",
       "      <th>vocab</th>\n",
       "      <th>value</th>\n",
       "      <th>severity</th>\n",
       "      <th>date</th>\n",
       "    </tr>\n",
       "  </thead>\n",
       "  <tbody>\n",
       "    <tr>\n",
       "      <th>0</th>\n",
       "      <td>2429.282817</td>\n",
       "      <td>MIXED HYPERLIPIDEMIA</td>\n",
       "      <td>ICD9</td>\n",
       "      <td>272.2</td>\n",
       "      <td>NaN</td>\n",
       "      <td>2012-06-20 12:32:00.00</td>\n",
       "    </tr>\n",
       "    <tr>\n",
       "      <th>1</th>\n",
       "      <td>2429.282817</td>\n",
       "      <td>MIXED HYPERLIPIDEMIA</td>\n",
       "      <td>ICD9</td>\n",
       "      <td>272.2</td>\n",
       "      <td>NaN</td>\n",
       "      <td>2012-11-08 14:58:44.00</td>\n",
       "    </tr>\n",
       "    <tr>\n",
       "      <th>2</th>\n",
       "      <td>2429.282817</td>\n",
       "      <td>DIABETES MELLITUS WITHOUT MENTION OF COMPLICAT...</td>\n",
       "      <td>ICD9</td>\n",
       "      <td>250.00</td>\n",
       "      <td>NaN</td>\n",
       "      <td>2012-06-20 12:32:00.00</td>\n",
       "    </tr>\n",
       "    <tr>\n",
       "      <th>3</th>\n",
       "      <td>2429.282817</td>\n",
       "      <td>DIABETES MELLITUS WITHOUT MENTION OF COMPLICAT...</td>\n",
       "      <td>ICD9</td>\n",
       "      <td>250.00</td>\n",
       "      <td>NaN</td>\n",
       "      <td>2012-11-08 14:58:44.00</td>\n",
       "    </tr>\n",
       "    <tr>\n",
       "      <th>4</th>\n",
       "      <td>2429.282817</td>\n",
       "      <td>BENIGN ESSENTIAL HYPERTENSION</td>\n",
       "      <td>ICD9</td>\n",
       "      <td>401.1</td>\n",
       "      <td>NaN</td>\n",
       "      <td>2012-06-20 12:32:00.00</td>\n",
       "    </tr>\n",
       "    <tr>\n",
       "      <th>5</th>\n",
       "      <td>2429.282817</td>\n",
       "      <td>BENIGN ESSENTIAL HYPERTENSION</td>\n",
       "      <td>ICD9</td>\n",
       "      <td>401.1</td>\n",
       "      <td>NaN</td>\n",
       "      <td>2012-11-08 14:58:44.00</td>\n",
       "    </tr>\n",
       "    <tr>\n",
       "      <th>6</th>\n",
       "      <td>2429.282817</td>\n",
       "      <td>ENLARGEMENT OF LYMPH NODES</td>\n",
       "      <td>ICD9</td>\n",
       "      <td>785.6</td>\n",
       "      <td>NaN</td>\n",
       "      <td>2012-11-08 14:58:44.00</td>\n",
       "    </tr>\n",
       "    <tr>\n",
       "      <th>7</th>\n",
       "      <td>2429.282817</td>\n",
       "      <td>ROUTINE GENERAL MEDICAL EXAMINATION AT A HEALT...</td>\n",
       "      <td>ICD9</td>\n",
       "      <td>V70.0</td>\n",
       "      <td>NaN</td>\n",
       "      <td>2012-06-20 12:32:00.00</td>\n",
       "    </tr>\n",
       "    <tr>\n",
       "      <th>8</th>\n",
       "      <td>2429.282817</td>\n",
       "      <td>NEED FOR PROPHYLACTIC VACCINATION AND INOCULAT...</td>\n",
       "      <td>ICD9</td>\n",
       "      <td>V04.81</td>\n",
       "      <td>NaN</td>\n",
       "      <td>2011-09-15 11:16:58.00</td>\n",
       "    </tr>\n",
       "    <tr>\n",
       "      <th>9</th>\n",
       "      <td>2429.282817</td>\n",
       "      <td>BENIGN ESSENTIAL HYPERTENSION</td>\n",
       "      <td>ICD9</td>\n",
       "      <td>401.1</td>\n",
       "      <td>NaN</td>\n",
       "      <td>2011-09-15 11:23:37.00</td>\n",
       "    </tr>\n",
       "  </tbody>\n",
       "</table>\n",
       "</div>"
      ],
      "text/plain": [
       "    patient_id                                          diagnosis vocab  \\\n",
       "0  2429.282817                               MIXED HYPERLIPIDEMIA  ICD9   \n",
       "1  2429.282817                               MIXED HYPERLIPIDEMIA  ICD9   \n",
       "2  2429.282817  DIABETES MELLITUS WITHOUT MENTION OF COMPLICAT...  ICD9   \n",
       "3  2429.282817  DIABETES MELLITUS WITHOUT MENTION OF COMPLICAT...  ICD9   \n",
       "4  2429.282817                      BENIGN ESSENTIAL HYPERTENSION  ICD9   \n",
       "5  2429.282817                      BENIGN ESSENTIAL HYPERTENSION  ICD9   \n",
       "6  2429.282817                         ENLARGEMENT OF LYMPH NODES  ICD9   \n",
       "7  2429.282817  ROUTINE GENERAL MEDICAL EXAMINATION AT A HEALT...  ICD9   \n",
       "8  2429.282817  NEED FOR PROPHYLACTIC VACCINATION AND INOCULAT...  ICD9   \n",
       "9  2429.282817                      BENIGN ESSENTIAL HYPERTENSION  ICD9   \n",
       "\n",
       "    value  severity                    date  \n",
       "0   272.2       NaN  2012-06-20 12:32:00.00  \n",
       "1   272.2       NaN  2012-11-08 14:58:44.00  \n",
       "2  250.00       NaN  2012-06-20 12:32:00.00  \n",
       "3  250.00       NaN  2012-11-08 14:58:44.00  \n",
       "4   401.1       NaN  2012-06-20 12:32:00.00  \n",
       "5   401.1       NaN  2012-11-08 14:58:44.00  \n",
       "6   785.6       NaN  2012-11-08 14:58:44.00  \n",
       "7   V70.0       NaN  2012-06-20 12:32:00.00  \n",
       "8  V04.81       NaN  2011-09-15 11:16:58.00  \n",
       "9   401.1       NaN  2011-09-15 11:23:37.00  "
      ]
     },
     "execution_count": 5,
     "metadata": {},
     "output_type": "execute_result"
    }
   ],
   "source": [
    "dat[:10]"
   ]
  },
  {
   "cell_type": "code",
   "execution_count": 6,
   "metadata": {
    "collapsed": false
   },
   "outputs": [],
   "source": [
    "dat_dedup = dat.drop_duplicates(['date', 'value', 'patient_id'])\n",
    "dat_dedup = dat_dedup.reset_index(drop=True)"
   ]
  },
  {
   "cell_type": "code",
   "execution_count": 7,
   "metadata": {
    "collapsed": false
   },
   "outputs": [
    {
     "data": {
      "text/plain": [
       "85795"
      ]
     },
     "execution_count": 7,
     "metadata": {},
     "output_type": "execute_result"
    }
   ],
   "source": [
    "len(dat_dedup)"
   ]
  },
  {
   "cell_type": "code",
   "execution_count": 8,
   "metadata": {
    "collapsed": false
   },
   "outputs": [
    {
     "data": {
      "text/plain": [
       "577"
      ]
     },
     "execution_count": 8,
     "metadata": {},
     "output_type": "execute_result"
    }
   ],
   "source": [
    "len(set(dat_dedup['patient_id']))"
   ]
  },
  {
   "cell_type": "code",
   "execution_count": 9,
   "metadata": {
    "collapsed": false
   },
   "outputs": [
    {
     "data": {
      "text/html": [
       "<div>\n",
       "<table border=\"1\" class=\"dataframe\">\n",
       "  <thead>\n",
       "    <tr style=\"text-align: right;\">\n",
       "      <th></th>\n",
       "      <th>patient_id</th>\n",
       "      <th>diagnosis</th>\n",
       "      <th>vocab</th>\n",
       "      <th>value</th>\n",
       "      <th>severity</th>\n",
       "      <th>date</th>\n",
       "    </tr>\n",
       "  </thead>\n",
       "  <tbody>\n",
       "    <tr>\n",
       "      <th>0</th>\n",
       "      <td>2429.282817</td>\n",
       "      <td>MIXED HYPERLIPIDEMIA</td>\n",
       "      <td>ICD9</td>\n",
       "      <td>272.2</td>\n",
       "      <td>NaN</td>\n",
       "      <td>2012-06-20 12:32:00.00</td>\n",
       "    </tr>\n",
       "    <tr>\n",
       "      <th>1</th>\n",
       "      <td>2429.282817</td>\n",
       "      <td>MIXED HYPERLIPIDEMIA</td>\n",
       "      <td>ICD9</td>\n",
       "      <td>272.2</td>\n",
       "      <td>NaN</td>\n",
       "      <td>2012-11-08 14:58:44.00</td>\n",
       "    </tr>\n",
       "    <tr>\n",
       "      <th>2</th>\n",
       "      <td>2429.282817</td>\n",
       "      <td>DIABETES MELLITUS WITHOUT MENTION OF COMPLICAT...</td>\n",
       "      <td>ICD9</td>\n",
       "      <td>250.00</td>\n",
       "      <td>NaN</td>\n",
       "      <td>2012-06-20 12:32:00.00</td>\n",
       "    </tr>\n",
       "    <tr>\n",
       "      <th>3</th>\n",
       "      <td>2429.282817</td>\n",
       "      <td>DIABETES MELLITUS WITHOUT MENTION OF COMPLICAT...</td>\n",
       "      <td>ICD9</td>\n",
       "      <td>250.00</td>\n",
       "      <td>NaN</td>\n",
       "      <td>2012-11-08 14:58:44.00</td>\n",
       "    </tr>\n",
       "    <tr>\n",
       "      <th>4</th>\n",
       "      <td>2429.282817</td>\n",
       "      <td>BENIGN ESSENTIAL HYPERTENSION</td>\n",
       "      <td>ICD9</td>\n",
       "      <td>401.1</td>\n",
       "      <td>NaN</td>\n",
       "      <td>2012-06-20 12:32:00.00</td>\n",
       "    </tr>\n",
       "  </tbody>\n",
       "</table>\n",
       "</div>"
      ],
      "text/plain": [
       "    patient_id                                          diagnosis vocab  \\\n",
       "0  2429.282817                               MIXED HYPERLIPIDEMIA  ICD9   \n",
       "1  2429.282817                               MIXED HYPERLIPIDEMIA  ICD9   \n",
       "2  2429.282817  DIABETES MELLITUS WITHOUT MENTION OF COMPLICAT...  ICD9   \n",
       "3  2429.282817  DIABETES MELLITUS WITHOUT MENTION OF COMPLICAT...  ICD9   \n",
       "4  2429.282817                      BENIGN ESSENTIAL HYPERTENSION  ICD9   \n",
       "\n",
       "    value  severity                    date  \n",
       "0   272.2       NaN  2012-06-20 12:32:00.00  \n",
       "1   272.2       NaN  2012-11-08 14:58:44.00  \n",
       "2  250.00       NaN  2012-06-20 12:32:00.00  \n",
       "3  250.00       NaN  2012-11-08 14:58:44.00  \n",
       "4   401.1       NaN  2012-06-20 12:32:00.00  "
      ]
     },
     "execution_count": 9,
     "metadata": {},
     "output_type": "execute_result"
    }
   ],
   "source": [
    "dat_dedup[:5]"
   ]
  },
  {
   "cell_type": "code",
   "execution_count": 10,
   "metadata": {
    "collapsed": false
   },
   "outputs": [],
   "source": [
    "for index, row in dat_dedup.iterrows():\n",
    "    new_val = round(row['patient_id'], 7)\n",
    "    dat_dedup.set_value(index, 'patient_id', new_val)"
   ]
  },
  {
   "cell_type": "code",
   "execution_count": 11,
   "metadata": {
    "collapsed": false
   },
   "outputs": [
    {
     "data": {
      "text/html": [
       "<div>\n",
       "<table border=\"1\" class=\"dataframe\">\n",
       "  <thead>\n",
       "    <tr style=\"text-align: right;\">\n",
       "      <th></th>\n",
       "      <th>patient_id</th>\n",
       "      <th>diagnosis</th>\n",
       "      <th>vocab</th>\n",
       "      <th>value</th>\n",
       "      <th>severity</th>\n",
       "      <th>date</th>\n",
       "    </tr>\n",
       "  </thead>\n",
       "  <tbody>\n",
       "    <tr>\n",
       "      <th>0</th>\n",
       "      <td>2429.282817</td>\n",
       "      <td>MIXED HYPERLIPIDEMIA</td>\n",
       "      <td>ICD9</td>\n",
       "      <td>272.2</td>\n",
       "      <td>NaN</td>\n",
       "      <td>2012-06-20 12:32:00.00</td>\n",
       "    </tr>\n",
       "    <tr>\n",
       "      <th>1</th>\n",
       "      <td>2429.282817</td>\n",
       "      <td>MIXED HYPERLIPIDEMIA</td>\n",
       "      <td>ICD9</td>\n",
       "      <td>272.2</td>\n",
       "      <td>NaN</td>\n",
       "      <td>2012-11-08 14:58:44.00</td>\n",
       "    </tr>\n",
       "    <tr>\n",
       "      <th>2</th>\n",
       "      <td>2429.282817</td>\n",
       "      <td>DIABETES MELLITUS WITHOUT MENTION OF COMPLICAT...</td>\n",
       "      <td>ICD9</td>\n",
       "      <td>250.00</td>\n",
       "      <td>NaN</td>\n",
       "      <td>2012-06-20 12:32:00.00</td>\n",
       "    </tr>\n",
       "    <tr>\n",
       "      <th>3</th>\n",
       "      <td>2429.282817</td>\n",
       "      <td>DIABETES MELLITUS WITHOUT MENTION OF COMPLICAT...</td>\n",
       "      <td>ICD9</td>\n",
       "      <td>250.00</td>\n",
       "      <td>NaN</td>\n",
       "      <td>2012-11-08 14:58:44.00</td>\n",
       "    </tr>\n",
       "    <tr>\n",
       "      <th>4</th>\n",
       "      <td>2429.282817</td>\n",
       "      <td>BENIGN ESSENTIAL HYPERTENSION</td>\n",
       "      <td>ICD9</td>\n",
       "      <td>401.1</td>\n",
       "      <td>NaN</td>\n",
       "      <td>2012-06-20 12:32:00.00</td>\n",
       "    </tr>\n",
       "  </tbody>\n",
       "</table>\n",
       "</div>"
      ],
      "text/plain": [
       "    patient_id                                          diagnosis vocab  \\\n",
       "0  2429.282817                               MIXED HYPERLIPIDEMIA  ICD9   \n",
       "1  2429.282817                               MIXED HYPERLIPIDEMIA  ICD9   \n",
       "2  2429.282817  DIABETES MELLITUS WITHOUT MENTION OF COMPLICAT...  ICD9   \n",
       "3  2429.282817  DIABETES MELLITUS WITHOUT MENTION OF COMPLICAT...  ICD9   \n",
       "4  2429.282817                      BENIGN ESSENTIAL HYPERTENSION  ICD9   \n",
       "\n",
       "    value  severity                    date  \n",
       "0   272.2       NaN  2012-06-20 12:32:00.00  \n",
       "1   272.2       NaN  2012-11-08 14:58:44.00  \n",
       "2  250.00       NaN  2012-06-20 12:32:00.00  \n",
       "3  250.00       NaN  2012-11-08 14:58:44.00  \n",
       "4   401.1       NaN  2012-06-20 12:32:00.00  "
      ]
     },
     "execution_count": 11,
     "metadata": {},
     "output_type": "execute_result"
    }
   ],
   "source": [
    "dat_dedup[:5]"
   ]
  },
  {
   "cell_type": "code",
   "execution_count": 12,
   "metadata": {
    "collapsed": false
   },
   "outputs": [
    {
     "data": {
      "text/html": [
       "<div>\n",
       "<table border=\"1\" class=\"dataframe\">\n",
       "  <thead>\n",
       "    <tr style=\"text-align: right;\">\n",
       "      <th></th>\n",
       "      <th>patient_id</th>\n",
       "      <th>src</th>\n",
       "      <th>src_val</th>\n",
       "      <th>diagnosis</th>\n",
       "      <th>vocab</th>\n",
       "      <th>value</th>\n",
       "      <th>date</th>\n",
       "      <th>end_date</th>\n",
       "      <th>active</th>\n",
       "    </tr>\n",
       "  </thead>\n",
       "  <tbody>\n",
       "    <tr>\n",
       "      <th>0</th>\n",
       "      <td>2429.749566</td>\n",
       "      <td>PROBLEM_LIST</td>\n",
       "      <td>1457442</td>\n",
       "      <td>Benign neoplasm of skin of trunk, except scrotum</td>\n",
       "      <td>ICD-9-CM</td>\n",
       "      <td>216.5</td>\n",
       "      <td>2011-12-21 00:00:00.00</td>\n",
       "      <td>2100-12-31 00:00:00.00</td>\n",
       "      <td>1</td>\n",
       "    </tr>\n",
       "    <tr>\n",
       "      <th>1</th>\n",
       "      <td>2429.749566</td>\n",
       "      <td>PROBLEM_LIST</td>\n",
       "      <td>1457443</td>\n",
       "      <td>Benign neoplasm of skin, site unspecified</td>\n",
       "      <td>ICD-9-CM</td>\n",
       "      <td>216.9</td>\n",
       "      <td>2011-12-21 00:00:00.00</td>\n",
       "      <td>2100-12-31 00:00:00.00</td>\n",
       "      <td>1</td>\n",
       "    </tr>\n",
       "    <tr>\n",
       "      <th>2</th>\n",
       "      <td>2429.749566</td>\n",
       "      <td>PROBLEM_LIST</td>\n",
       "      <td>1457444</td>\n",
       "      <td>Other seborrheic keratosis</td>\n",
       "      <td>ICD-9-CM</td>\n",
       "      <td>702.19</td>\n",
       "      <td>2011-12-21 00:00:00.00</td>\n",
       "      <td>2100-12-31 00:00:00.00</td>\n",
       "      <td>1</td>\n",
       "    </tr>\n",
       "    <tr>\n",
       "      <th>3</th>\n",
       "      <td>2429.749566</td>\n",
       "      <td>PROBLEM_LIST</td>\n",
       "      <td>3752994</td>\n",
       "      <td>Asthma, mild intermittent</td>\n",
       "      <td>ICD-9-CM</td>\n",
       "      <td>493.90</td>\n",
       "      <td>2014-10-10 00:00:00.00</td>\n",
       "      <td>2100-12-31 00:00:00.00</td>\n",
       "      <td>1</td>\n",
       "    </tr>\n",
       "    <tr>\n",
       "      <th>4</th>\n",
       "      <td>2429.749566</td>\n",
       "      <td>PROBLEM_LIST</td>\n",
       "      <td>4149722</td>\n",
       "      <td>Mood disorder</td>\n",
       "      <td>ICD-9-CM</td>\n",
       "      <td>296.90</td>\n",
       "      <td>2015-02-11 00:00:00.00</td>\n",
       "      <td>2100-12-31 00:00:00.00</td>\n",
       "      <td>1</td>\n",
       "    </tr>\n",
       "  </tbody>\n",
       "</table>\n",
       "</div>"
      ],
      "text/plain": [
       "    patient_id           src  src_val  \\\n",
       "0  2429.749566  PROBLEM_LIST  1457442   \n",
       "1  2429.749566  PROBLEM_LIST  1457443   \n",
       "2  2429.749566  PROBLEM_LIST  1457444   \n",
       "3  2429.749566  PROBLEM_LIST  3752994   \n",
       "4  2429.749566  PROBLEM_LIST  4149722   \n",
       "\n",
       "                                          diagnosis     vocab   value  \\\n",
       "0  Benign neoplasm of skin of trunk, except scrotum  ICD-9-CM   216.5   \n",
       "1         Benign neoplasm of skin, site unspecified  ICD-9-CM   216.9   \n",
       "2                        Other seborrheic keratosis  ICD-9-CM  702.19   \n",
       "3                         Asthma, mild intermittent  ICD-9-CM  493.90   \n",
       "4                                     Mood disorder  ICD-9-CM  296.90   \n",
       "\n",
       "                     date                end_date  active  \n",
       "0  2011-12-21 00:00:00.00  2100-12-31 00:00:00.00       1  \n",
       "1  2011-12-21 00:00:00.00  2100-12-31 00:00:00.00       1  \n",
       "2  2011-12-21 00:00:00.00  2100-12-31 00:00:00.00       1  \n",
       "3  2014-10-10 00:00:00.00  2100-12-31 00:00:00.00       1  \n",
       "4  2015-02-11 00:00:00.00  2100-12-31 00:00:00.00       1  "
      ]
     },
     "execution_count": 12,
     "metadata": {},
     "output_type": "execute_result"
    }
   ],
   "source": [
    "pl = pd.read_table(\"problem_list.txt\")\n",
    "pl.columns = ['patient_id', 'src','src_val', 'diagnosis', 'vocab', 'value', 'date', 'end_date', 'active']\n",
    "pl[:5]"
   ]
  },
  {
   "cell_type": "code",
   "execution_count": 13,
   "metadata": {
    "collapsed": false
   },
   "outputs": [
    {
     "name": "stdout",
     "output_type": "stream",
     "text": [
      "unique patients: 514 unique entries: 3862\n"
     ]
    }
   ],
   "source": [
    "print('unique patients: ' + str(len(set(pl['patient_id']))) + ' unique entries: ' + str(len(pl['patient_id'])))"
   ]
  },
  {
   "cell_type": "code",
   "execution_count": 14,
   "metadata": {
    "collapsed": false
   },
   "outputs": [
    {
     "name": "stdout",
     "output_type": "stream",
     "text": [
      "unique patients: 514 unique entries: 3829\n"
     ]
    }
   ],
   "source": [
    "pl_dedup = pl.drop_duplicates(['date', 'value', 'patient_id'])\n",
    "pl_dedup = pl_dedup.reset_index(drop=True)\n",
    "print('unique patients: ' + str(len(set(pl_dedup['patient_id']))) + ' unique entries: ' + str(len(pl_dedup['patient_id'])))"
   ]
  },
  {
   "cell_type": "code",
   "execution_count": 15,
   "metadata": {
    "collapsed": false
   },
   "outputs": [],
   "source": [
    "pl_dedup = pl_dedup.drop('end_date', 1)\n",
    "pl_dedup = pl_dedup.drop('active', 1)\n",
    "pl_dedup = pl_dedup.drop('src', 1)\n",
    "pl_dedup = pl_dedup.drop('src_val', 1)"
   ]
  },
  {
   "cell_type": "code",
   "execution_count": 16,
   "metadata": {
    "collapsed": false
   },
   "outputs": [],
   "source": [
    "pl_dedup['severity'] = 'NaN'"
   ]
  },
  {
   "cell_type": "code",
   "execution_count": 40,
   "metadata": {
    "collapsed": true
   },
   "outputs": [],
   "source": [
    "for i, row in pl_dedup.iterrows():\n",
    "    pl_dedup.set_value(i, 'patient_id', round(row['patient_id'], 7))"
   ]
  },
  {
   "cell_type": "code",
   "execution_count": 41,
   "metadata": {
    "collapsed": false
   },
   "outputs": [
    {
     "data": {
      "text/html": [
       "<div>\n",
       "<table border=\"1\" class=\"dataframe\">\n",
       "  <thead>\n",
       "    <tr style=\"text-align: right;\">\n",
       "      <th></th>\n",
       "      <th>patient_id</th>\n",
       "      <th>diagnosis</th>\n",
       "      <th>vocab</th>\n",
       "      <th>value</th>\n",
       "      <th>severity</th>\n",
       "      <th>date</th>\n",
       "    </tr>\n",
       "  </thead>\n",
       "  <tbody>\n",
       "    <tr>\n",
       "      <th>0</th>\n",
       "      <td>2429.749566</td>\n",
       "      <td>Benign neoplasm of skin of trunk, except scrotum</td>\n",
       "      <td>ICD-9-CM</td>\n",
       "      <td>216.5</td>\n",
       "      <td>NaN</td>\n",
       "      <td>2011-12-21 00:00:00.00</td>\n",
       "    </tr>\n",
       "    <tr>\n",
       "      <th>1</th>\n",
       "      <td>2429.749566</td>\n",
       "      <td>Benign neoplasm of skin, site unspecified</td>\n",
       "      <td>ICD-9-CM</td>\n",
       "      <td>216.9</td>\n",
       "      <td>NaN</td>\n",
       "      <td>2011-12-21 00:00:00.00</td>\n",
       "    </tr>\n",
       "    <tr>\n",
       "      <th>2</th>\n",
       "      <td>2429.749566</td>\n",
       "      <td>Other seborrheic keratosis</td>\n",
       "      <td>ICD-9-CM</td>\n",
       "      <td>702.19</td>\n",
       "      <td>NaN</td>\n",
       "      <td>2011-12-21 00:00:00.00</td>\n",
       "    </tr>\n",
       "    <tr>\n",
       "      <th>3</th>\n",
       "      <td>2429.749566</td>\n",
       "      <td>Asthma, mild intermittent</td>\n",
       "      <td>ICD-9-CM</td>\n",
       "      <td>493.90</td>\n",
       "      <td>NaN</td>\n",
       "      <td>2014-10-10 00:00:00.00</td>\n",
       "    </tr>\n",
       "    <tr>\n",
       "      <th>4</th>\n",
       "      <td>2429.749566</td>\n",
       "      <td>Mood disorder</td>\n",
       "      <td>ICD-9-CM</td>\n",
       "      <td>296.90</td>\n",
       "      <td>NaN</td>\n",
       "      <td>2015-02-11 00:00:00.00</td>\n",
       "    </tr>\n",
       "  </tbody>\n",
       "</table>\n",
       "</div>"
      ],
      "text/plain": [
       "    patient_id                                         diagnosis     vocab  \\\n",
       "0  2429.749566  Benign neoplasm of skin of trunk, except scrotum  ICD-9-CM   \n",
       "1  2429.749566         Benign neoplasm of skin, site unspecified  ICD-9-CM   \n",
       "2  2429.749566                        Other seborrheic keratosis  ICD-9-CM   \n",
       "3  2429.749566                         Asthma, mild intermittent  ICD-9-CM   \n",
       "4  2429.749566                                     Mood disorder  ICD-9-CM   \n",
       "\n",
       "    value severity                    date  \n",
       "0   216.5      NaN  2011-12-21 00:00:00.00  \n",
       "1   216.9      NaN  2011-12-21 00:00:00.00  \n",
       "2  702.19      NaN  2011-12-21 00:00:00.00  \n",
       "3  493.90      NaN  2014-10-10 00:00:00.00  \n",
       "4  296.90      NaN  2015-02-11 00:00:00.00  "
      ]
     },
     "execution_count": 41,
     "metadata": {},
     "output_type": "execute_result"
    }
   ],
   "source": [
    "pl_dedup[:5]"
   ]
  },
  {
   "cell_type": "code",
   "execution_count": 18,
   "metadata": {
    "collapsed": true
   },
   "outputs": [],
   "source": [
    "cols = ['patient_id', 'diagnosis', 'vocab', 'value', 'severity', 'date']\n",
    "pl_dedup = pl_dedup[cols]"
   ]
  },
  {
   "cell_type": "code",
   "execution_count": 19,
   "metadata": {
    "collapsed": false
   },
   "outputs": [
    {
     "data": {
      "text/html": [
       "<div>\n",
       "<table border=\"1\" class=\"dataframe\">\n",
       "  <thead>\n",
       "    <tr style=\"text-align: right;\">\n",
       "      <th></th>\n",
       "      <th>patient_id</th>\n",
       "      <th>diagnosis</th>\n",
       "      <th>vocab</th>\n",
       "      <th>value</th>\n",
       "      <th>severity</th>\n",
       "      <th>date</th>\n",
       "    </tr>\n",
       "  </thead>\n",
       "  <tbody>\n",
       "    <tr>\n",
       "      <th>0</th>\n",
       "      <td>2429.749566</td>\n",
       "      <td>Benign neoplasm of skin of trunk, except scrotum</td>\n",
       "      <td>ICD-9-CM</td>\n",
       "      <td>216.5</td>\n",
       "      <td>NaN</td>\n",
       "      <td>2011-12-21 00:00:00.00</td>\n",
       "    </tr>\n",
       "  </tbody>\n",
       "</table>\n",
       "</div>"
      ],
      "text/plain": [
       "    patient_id                                         diagnosis     vocab  \\\n",
       "0  2429.749566  Benign neoplasm of skin of trunk, except scrotum  ICD-9-CM   \n",
       "\n",
       "   value severity                    date  \n",
       "0  216.5      NaN  2011-12-21 00:00:00.00  "
      ]
     },
     "execution_count": 19,
     "metadata": {},
     "output_type": "execute_result"
    }
   ],
   "source": [
    "pl_dedup[:1]"
   ]
  },
  {
   "cell_type": "code",
   "execution_count": 43,
   "metadata": {
    "collapsed": false
   },
   "outputs": [
    {
     "data": {
      "text/html": [
       "<div>\n",
       "<table border=\"1\" class=\"dataframe\">\n",
       "  <thead>\n",
       "    <tr style=\"text-align: right;\">\n",
       "      <th></th>\n",
       "      <th>patient_id</th>\n",
       "      <th>diagnosis</th>\n",
       "      <th>relation</th>\n",
       "      <th>comments</th>\n",
       "      <th>date</th>\n",
       "      <th>vocab</th>\n",
       "      <th>value</th>\n",
       "      <th>severity</th>\n",
       "    </tr>\n",
       "  </thead>\n",
       "  <tbody>\n",
       "    <tr>\n",
       "      <th>0</th>\n",
       "      <td>2429.140522</td>\n",
       "      <td>Asthma</td>\n",
       "      <td>Father</td>\n",
       "      <td>NaN</td>\n",
       "      <td>2013-05-10 00:00:00.000</td>\n",
       "      <td>ICD-10-CM</td>\n",
       "      <td>a</td>\n",
       "      <td>NaN</td>\n",
       "    </tr>\n",
       "  </tbody>\n",
       "</table>\n",
       "</div>"
      ],
      "text/plain": [
       "    patient_id diagnosis relation comments                     date  \\\n",
       "0  2429.140522    Asthma   Father      NaN  2013-05-10 00:00:00.000   \n",
       "\n",
       "       vocab value severity  \n",
       "0  ICD-10-CM     a      NaN  "
      ]
     },
     "execution_count": 43,
     "metadata": {},
     "output_type": "execute_result"
    }
   ],
   "source": [
    "# family history of asthma and hay fever\n",
    "famhx = pd.read_table(\"family_hx_asthma_hay_fever.txt\")\n",
    "famhx['vocab'] = \"ICD-10-CM\"\n",
    "famhx['value'] = \"a\"\n",
    "famhx['severity'] = \"NaN\"\n",
    "famhx.columns = ['patient_id', 'diagnosis', 'relation', 'comments', 'date', 'vocab', 'value', 'severity']\n",
    "famhx[:1]"
   ]
  },
  {
   "cell_type": "code",
   "execution_count": 44,
   "metadata": {
    "collapsed": false
   },
   "outputs": [],
   "source": [
    "for index, row in famhx.iterrows():\n",
    "    if row['diagnosis'] == 'Asthma':\n",
    "        famhx.set_value(index, 'value', 'V17.5')\n",
    "    else:\n",
    "        famhx.set_value(index, 'value', 'V17.6')\n",
    "    \n",
    "    famhx.set_value(index, 'patient_id', round(row['patient_id'], 7))\n",
    "    "
   ]
  },
  {
   "cell_type": "code",
   "execution_count": 45,
   "metadata": {
    "collapsed": false
   },
   "outputs": [],
   "source": [
    "famhx = famhx.drop('relation', 1)\n",
    "famhx = famhx.drop('comments', 1)"
   ]
  },
  {
   "cell_type": "code",
   "execution_count": 46,
   "metadata": {
    "collapsed": false
   },
   "outputs": [],
   "source": [
    "cols = ['patient_id', 'diagnosis', 'vocab', 'value', 'severity', 'date']\n",
    "famhx = famhx[cols]"
   ]
  },
  {
   "cell_type": "code",
   "execution_count": 47,
   "metadata": {
    "collapsed": false
   },
   "outputs": [
    {
     "data": {
      "text/html": [
       "<div>\n",
       "<table border=\"1\" class=\"dataframe\">\n",
       "  <thead>\n",
       "    <tr style=\"text-align: right;\">\n",
       "      <th></th>\n",
       "      <th>patient_id</th>\n",
       "      <th>diagnosis</th>\n",
       "      <th>vocab</th>\n",
       "      <th>value</th>\n",
       "      <th>severity</th>\n",
       "      <th>date</th>\n",
       "    </tr>\n",
       "  </thead>\n",
       "  <tbody>\n",
       "    <tr>\n",
       "      <th>0</th>\n",
       "      <td>2429.140522</td>\n",
       "      <td>Asthma</td>\n",
       "      <td>ICD-10-CM</td>\n",
       "      <td>V17.5</td>\n",
       "      <td>NaN</td>\n",
       "      <td>2013-05-10 00:00:00.000</td>\n",
       "    </tr>\n",
       "  </tbody>\n",
       "</table>\n",
       "</div>"
      ],
      "text/plain": [
       "    patient_id diagnosis      vocab  value severity                     date\n",
       "0  2429.140522    Asthma  ICD-10-CM  V17.5      NaN  2013-05-10 00:00:00.000"
      ]
     },
     "execution_count": 47,
     "metadata": {},
     "output_type": "execute_result"
    }
   ],
   "source": [
    "famhx[:1]"
   ]
  },
  {
   "cell_type": "code",
   "execution_count": 48,
   "metadata": {
    "collapsed": false
   },
   "outputs": [
    {
     "name": "stdout",
     "output_type": "stream",
     "text": [
      "unique patients: 14 unique entries: 16\n"
     ]
    }
   ],
   "source": [
    "print('unique patients: ' + str(len(set(famhx['patient_id']))) + ' unique entries: ' + str(len(famhx['patient_id'])))"
   ]
  },
  {
   "cell_type": "code",
   "execution_count": 49,
   "metadata": {
    "collapsed": false
   },
   "outputs": [
    {
     "name": "stdout",
     "output_type": "stream",
     "text": [
      "unique patients: 14 unique entries: 14\n"
     ]
    }
   ],
   "source": [
    "famhx_dedup = famhx.drop_duplicates(['date', 'value', 'patient_id'])\n",
    "famhx_dedup = famhx_dedup.reset_index(drop=True)\n",
    "print('unique patients: ' + str(len(set(famhx_dedup['patient_id']))) + ' unique entries: ' + str(len(famhx_dedup['patient_id'])))"
   ]
  },
  {
   "cell_type": "code",
   "execution_count": 50,
   "metadata": {
    "collapsed": false
   },
   "outputs": [],
   "source": [
    "# combine\n",
    "codes = famhx_dedup.append([dat_dedup, pl_dedup])"
   ]
  },
  {
   "cell_type": "code",
   "execution_count": 51,
   "metadata": {
    "collapsed": false
   },
   "outputs": [
    {
     "name": "stdout",
     "output_type": "stream",
     "text": [
      "unique patients: 577 unique entries: 89638\n"
     ]
    }
   ],
   "source": [
    "print('unique patients: ' + str(len(set(codes['patient_id']))) + ' unique entries: ' + str(len(codes['patient_id'])))"
   ]
  },
  {
   "cell_type": "code",
   "execution_count": 54,
   "metadata": {
    "collapsed": true
   },
   "outputs": [],
   "source": [
    "dat_dedup.to_csv(\"diagnosis_codes_ids_deduped_all_sources.txt\", sep=\"\\t\", index=False)"
   ]
  },
  {
   "cell_type": "code",
   "execution_count": null,
   "metadata": {
    "collapsed": true
   },
   "outputs": [],
   "source": []
  }
 ],
 "metadata": {
  "anaconda-cloud": {},
  "kernelspec": {
   "display_name": "Python [conda root]",
   "language": "python",
   "name": "conda-root-py"
  },
  "language_info": {
   "codemirror_mode": {
    "name": "ipython",
    "version": 3
   },
   "file_extension": ".py",
   "mimetype": "text/x-python",
   "name": "python",
   "nbconvert_exporter": "python",
   "pygments_lexer": "ipython3",
   "version": "3.5.2"
  }
 },
 "nbformat": 4,
 "nbformat_minor": 1
}
