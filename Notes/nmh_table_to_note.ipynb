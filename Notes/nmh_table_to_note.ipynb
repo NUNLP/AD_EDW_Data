{
 "cells": [
  {
   "cell_type": "code",
   "execution_count": 1,
   "metadata": {
    "collapsed": true
   },
   "outputs": [],
   "source": [
    "import pandas as pd\n",
    "import os"
   ]
  },
  {
   "cell_type": "code",
   "execution_count": 2,
   "metadata": {
    "collapsed": true
   },
   "outputs": [],
   "source": [
    "filename = \"notepull_032117_nmh_ranked.csv\""
   ]
  },
  {
   "cell_type": "code",
   "execution_count": 3,
   "metadata": {
    "collapsed": false
   },
   "outputs": [],
   "source": [
    "# create output directory if doesn't already exist\n",
    "if not os.path.exists(filename[0:-4]):\n",
    "    os.makedirs(filename[0:-4])"
   ]
  },
  {
   "cell_type": "code",
   "execution_count": 3,
   "metadata": {
    "collapsed": false
   },
   "outputs": [
    {
     "data": {
      "text/html": [
       "<div>\n",
       "<table border=\"1\" class=\"dataframe\">\n",
       "  <thead>\n",
       "    <tr style=\"text-align: right;\">\n",
       "      <th></th>\n",
       "      <th>cohort_id</th>\n",
       "      <th>mrd_pt_id</th>\n",
       "      <th>encntr_id</th>\n",
       "      <th>encntr_dts</th>\n",
       "      <th>note_text</th>\n",
       "      <th>encntr_type</th>\n",
       "      <th>encntr_class</th>\n",
       "      <th>org</th>\n",
       "    </tr>\n",
       "  </thead>\n",
       "  <tbody>\n",
       "    <tr>\n",
       "      <th>0</th>\n",
       "      <td>2429.574767</td>\n",
       "      <td>4382787</td>\n",
       "      <td>25184784</td>\n",
       "      <td>2005-08-08T13:02:00.0</td>\n",
       "      <td>\\nPatient:   SANZO, VALERIE A            MRN -...</td>\n",
       "      <td>Office Visit</td>\n",
       "      <td>Outpatient</td>\n",
       "      <td>NMPG</td>\n",
       "    </tr>\n",
       "    <tr>\n",
       "      <th>1</th>\n",
       "      <td>2429.574767</td>\n",
       "      <td>4382787</td>\n",
       "      <td>25184784</td>\n",
       "      <td>2005-08-08T13:02:00.0</td>\n",
       "      <td>\\nPatient:   SANZO, VALERIE A            MRN -...</td>\n",
       "      <td>Office Visit</td>\n",
       "      <td>Outpatient</td>\n",
       "      <td>NMPG</td>\n",
       "    </tr>\n",
       "    <tr>\n",
       "      <th>2</th>\n",
       "      <td>2429.574767</td>\n",
       "      <td>4382787</td>\n",
       "      <td>25184784</td>\n",
       "      <td>2005-08-08T13:02:00.0</td>\n",
       "      <td>\\nPatient:   SANZO, VALERIE A            MRN -...</td>\n",
       "      <td>Office Visit</td>\n",
       "      <td>Outpatient</td>\n",
       "      <td>NMPG</td>\n",
       "    </tr>\n",
       "    <tr>\n",
       "      <th>3</th>\n",
       "      <td>2429.007586</td>\n",
       "      <td>5494324</td>\n",
       "      <td>26715059</td>\n",
       "      <td>2006-04-20T06:47:00.0</td>\n",
       "      <td>Olga Ramm, MD - OB/Gyn (312.695.5577)\\n\\nPatie...</td>\n",
       "      <td>Inpatient</td>\n",
       "      <td>Inpatient</td>\n",
       "      <td>OBSTETRICS</td>\n",
       "    </tr>\n",
       "    <tr>\n",
       "      <th>4</th>\n",
       "      <td>2429.007586</td>\n",
       "      <td>5494324</td>\n",
       "      <td>26715059</td>\n",
       "      <td>2006-04-20T06:47:00.0</td>\n",
       "      <td>Olga Ramm, MD - OB/Gyn (312.695.5577)\\n\\nPatie...</td>\n",
       "      <td>Inpatient</td>\n",
       "      <td>Inpatient</td>\n",
       "      <td>OBSTETRICS</td>\n",
       "    </tr>\n",
       "    <tr>\n",
       "      <th>5</th>\n",
       "      <td>2429.007586</td>\n",
       "      <td>5494324</td>\n",
       "      <td>26715059</td>\n",
       "      <td>2006-04-20T06:47:00.0</td>\n",
       "      <td>Olga Ramm, MD - OB/Gyn (312.695.5577)\\n\\nPatie...</td>\n",
       "      <td>Inpatient</td>\n",
       "      <td>Inpatient</td>\n",
       "      <td>OBSTETRICS</td>\n",
       "    </tr>\n",
       "    <tr>\n",
       "      <th>6</th>\n",
       "      <td>2429.007586</td>\n",
       "      <td>5494324</td>\n",
       "      <td>26715059</td>\n",
       "      <td>2006-04-20T06:47:00.0</td>\n",
       "      <td>Olga Ramm, MD - OB/Gyn (312.695.5577)\\n\\nPatie...</td>\n",
       "      <td>Inpatient</td>\n",
       "      <td>Inpatient</td>\n",
       "      <td>OBSTETRICS</td>\n",
       "    </tr>\n",
       "    <tr>\n",
       "      <th>7</th>\n",
       "      <td>2429.007586</td>\n",
       "      <td>5494324</td>\n",
       "      <td>26715059</td>\n",
       "      <td>2006-04-20T06:47:00.0</td>\n",
       "      <td>\\nPatient:   ALCALA, JULIE            MRN - 00...</td>\n",
       "      <td>Inpatient</td>\n",
       "      <td>Inpatient</td>\n",
       "      <td>OBSTETRICS</td>\n",
       "    </tr>\n",
       "    <tr>\n",
       "      <th>8</th>\n",
       "      <td>2429.007586</td>\n",
       "      <td>5494324</td>\n",
       "      <td>26715059</td>\n",
       "      <td>2006-04-20T06:47:00.0</td>\n",
       "      <td>\\nPatient:   ALCALA, JULIE            MRN - 00...</td>\n",
       "      <td>Inpatient</td>\n",
       "      <td>Inpatient</td>\n",
       "      <td>OBSTETRICS</td>\n",
       "    </tr>\n",
       "    <tr>\n",
       "      <th>9</th>\n",
       "      <td>2429.007586</td>\n",
       "      <td>5494324</td>\n",
       "      <td>26715059</td>\n",
       "      <td>2006-04-20T06:47:00.0</td>\n",
       "      <td>\\nPatient:   ALCALA, JULIE            MRN - 00...</td>\n",
       "      <td>Inpatient</td>\n",
       "      <td>Inpatient</td>\n",
       "      <td>OBSTETRICS</td>\n",
       "    </tr>\n",
       "  </tbody>\n",
       "</table>\n",
       "</div>"
      ],
      "text/plain": [
       "     cohort_id  mrd_pt_id  encntr_id             encntr_dts  \\\n",
       "0  2429.574767    4382787   25184784  2005-08-08T13:02:00.0   \n",
       "1  2429.574767    4382787   25184784  2005-08-08T13:02:00.0   \n",
       "2  2429.574767    4382787   25184784  2005-08-08T13:02:00.0   \n",
       "3  2429.007586    5494324   26715059  2006-04-20T06:47:00.0   \n",
       "4  2429.007586    5494324   26715059  2006-04-20T06:47:00.0   \n",
       "5  2429.007586    5494324   26715059  2006-04-20T06:47:00.0   \n",
       "6  2429.007586    5494324   26715059  2006-04-20T06:47:00.0   \n",
       "7  2429.007586    5494324   26715059  2006-04-20T06:47:00.0   \n",
       "8  2429.007586    5494324   26715059  2006-04-20T06:47:00.0   \n",
       "9  2429.007586    5494324   26715059  2006-04-20T06:47:00.0   \n",
       "\n",
       "                                           note_text   encntr_type  \\\n",
       "0  \\nPatient:   SANZO, VALERIE A            MRN -...  Office Visit   \n",
       "1  \\nPatient:   SANZO, VALERIE A            MRN -...  Office Visit   \n",
       "2  \\nPatient:   SANZO, VALERIE A            MRN -...  Office Visit   \n",
       "3  Olga Ramm, MD - OB/Gyn (312.695.5577)\\n\\nPatie...     Inpatient   \n",
       "4  Olga Ramm, MD - OB/Gyn (312.695.5577)\\n\\nPatie...     Inpatient   \n",
       "5  Olga Ramm, MD - OB/Gyn (312.695.5577)\\n\\nPatie...     Inpatient   \n",
       "6  Olga Ramm, MD - OB/Gyn (312.695.5577)\\n\\nPatie...     Inpatient   \n",
       "7  \\nPatient:   ALCALA, JULIE            MRN - 00...     Inpatient   \n",
       "8  \\nPatient:   ALCALA, JULIE            MRN - 00...     Inpatient   \n",
       "9  \\nPatient:   ALCALA, JULIE            MRN - 00...     Inpatient   \n",
       "\n",
       "  encntr_class         org  \n",
       "0   Outpatient        NMPG  \n",
       "1   Outpatient        NMPG  \n",
       "2   Outpatient        NMPG  \n",
       "3    Inpatient  OBSTETRICS  \n",
       "4    Inpatient  OBSTETRICS  \n",
       "5    Inpatient  OBSTETRICS  \n",
       "6    Inpatient  OBSTETRICS  \n",
       "7    Inpatient  OBSTETRICS  \n",
       "8    Inpatient  OBSTETRICS  \n",
       "9    Inpatient  OBSTETRICS  "
      ]
     },
     "execution_count": 3,
     "metadata": {},
     "output_type": "execute_result"
    }
   ],
   "source": [
    "# read notes, add column names, show top of table\n",
    "notes = pd.read_csv(filename, header = None)\n",
    "notes.columns = ['cohort_id', 'mrd_pt_id', 'encntr_id', 'encntr_dts', 'note_text', 'encntr_type', 'encntr_class', 'org']\n",
    "notes[0:10]"
   ]
  },
  {
   "cell_type": "code",
   "execution_count": 4,
   "metadata": {
    "collapsed": false
   },
   "outputs": [
    {
     "data": {
      "text/plain": [
       "13271"
      ]
     },
     "execution_count": 4,
     "metadata": {},
     "output_type": "execute_result"
    }
   ],
   "source": [
    "len(notes['cohort_id'])"
   ]
  },
  {
   "cell_type": "code",
   "execution_count": 5,
   "metadata": {
    "collapsed": true
   },
   "outputs": [],
   "source": [
    "notes_dedup = notes.drop_duplicates(['encntr_dts', 'encntr_id', 'cohort_id'])\n",
    "notes_dedup = notes_dedup.reset_index(drop=True)"
   ]
  },
  {
   "cell_type": "code",
   "execution_count": 6,
   "metadata": {
    "collapsed": false
   },
   "outputs": [
    {
     "data": {
      "text/html": [
       "<div>\n",
       "<table border=\"1\" class=\"dataframe\">\n",
       "  <thead>\n",
       "    <tr style=\"text-align: right;\">\n",
       "      <th></th>\n",
       "      <th>cohort_id</th>\n",
       "      <th>mrd_pt_id</th>\n",
       "      <th>encntr_id</th>\n",
       "      <th>encntr_dts</th>\n",
       "      <th>note_text</th>\n",
       "      <th>encntr_type</th>\n",
       "      <th>encntr_class</th>\n",
       "      <th>org</th>\n",
       "    </tr>\n",
       "  </thead>\n",
       "  <tbody>\n",
       "    <tr>\n",
       "      <th>0</th>\n",
       "      <td>2429.574767</td>\n",
       "      <td>4382787</td>\n",
       "      <td>25184784</td>\n",
       "      <td>2005-08-08T13:02:00.0</td>\n",
       "      <td>\\nPatient:   SANZO, VALERIE A            MRN -...</td>\n",
       "      <td>Office Visit</td>\n",
       "      <td>Outpatient</td>\n",
       "      <td>NMPG</td>\n",
       "    </tr>\n",
       "    <tr>\n",
       "      <th>1</th>\n",
       "      <td>2429.007586</td>\n",
       "      <td>5494324</td>\n",
       "      <td>26715059</td>\n",
       "      <td>2006-04-20T06:47:00.0</td>\n",
       "      <td>Olga Ramm, MD - OB/Gyn (312.695.5577)\\n\\nPatie...</td>\n",
       "      <td>Inpatient</td>\n",
       "      <td>Inpatient</td>\n",
       "      <td>OBSTETRICS</td>\n",
       "    </tr>\n",
       "    <tr>\n",
       "      <th>2</th>\n",
       "      <td>2429.063776</td>\n",
       "      <td>2407530</td>\n",
       "      <td>26847798</td>\n",
       "      <td>2006-01-18T02:31:00.0</td>\n",
       "      <td>\\nPatient:   LEONG-LEUNG, SILLIVE            M...</td>\n",
       "      <td>Outpatient</td>\n",
       "      <td>Outpatient</td>\n",
       "      <td>G I LABORATORY</td>\n",
       "    </tr>\n",
       "    <tr>\n",
       "      <th>3</th>\n",
       "      <td>2429.369555</td>\n",
       "      <td>2468164</td>\n",
       "      <td>26916703</td>\n",
       "      <td>2006-02-07T16:37:00.0</td>\n",
       "      <td>\\nPatient:   MORGAN, WENDY            MRN - 00...</td>\n",
       "      <td>Office Visit</td>\n",
       "      <td>Outpatient</td>\n",
       "      <td>NMPG</td>\n",
       "    </tr>\n",
       "    <tr>\n",
       "      <th>4</th>\n",
       "      <td>2429.535497</td>\n",
       "      <td>2585812</td>\n",
       "      <td>26947147</td>\n",
       "      <td>2006-03-01T10:23:00.0</td>\n",
       "      <td>NMPG Internal Medicine Note   Kellyn Marks, MD...</td>\n",
       "      <td>Office Visit</td>\n",
       "      <td>Outpatient</td>\n",
       "      <td>NMPG</td>\n",
       "    </tr>\n",
       "    <tr>\n",
       "      <th>5</th>\n",
       "      <td>2429.546435</td>\n",
       "      <td>2995032</td>\n",
       "      <td>27063131</td>\n",
       "      <td>2006-01-31T13:51:00.0</td>\n",
       "      <td>\\nPatient:   KANESHIRO, TERRENCE            MR...</td>\n",
       "      <td>Office Visit</td>\n",
       "      <td>Outpatient</td>\n",
       "      <td>NMPG</td>\n",
       "    </tr>\n",
       "    <tr>\n",
       "      <th>6</th>\n",
       "      <td>2429.709518</td>\n",
       "      <td>4636775</td>\n",
       "      <td>27108528</td>\n",
       "      <td>2006-02-06T07:18:00.0</td>\n",
       "      <td>Timothy Garvey, M.D.\\n\\nPatient:   AGUILAR, AN...</td>\n",
       "      <td>Office Visit</td>\n",
       "      <td>Outpatient</td>\n",
       "      <td>NMPG</td>\n",
       "    </tr>\n",
       "    <tr>\n",
       "      <th>7</th>\n",
       "      <td>2429.553340</td>\n",
       "      <td>2102402</td>\n",
       "      <td>27129665</td>\n",
       "      <td>2006-02-16T10:43:00.0</td>\n",
       "      <td>NMPG Internal Medicine Note (Julie Brandies, M...</td>\n",
       "      <td>Office Visit</td>\n",
       "      <td>Outpatient</td>\n",
       "      <td>NMPG</td>\n",
       "    </tr>\n",
       "    <tr>\n",
       "      <th>8</th>\n",
       "      <td>2429.732721</td>\n",
       "      <td>4672120</td>\n",
       "      <td>27173505</td>\n",
       "      <td>2006-02-09T14:30:00.0</td>\n",
       "      <td>\\nPatient:   GABOR, RUDY            MRN - 0003...</td>\n",
       "      <td>Office Visit</td>\n",
       "      <td>Outpatient</td>\n",
       "      <td>NMPG</td>\n",
       "    </tr>\n",
       "    <tr>\n",
       "      <th>9</th>\n",
       "      <td>2429.461269</td>\n",
       "      <td>4381714</td>\n",
       "      <td>27181682</td>\n",
       "      <td>2006-02-13T09:07:00.0</td>\n",
       "      <td>\\nPatient:   ACKMAN, LYNETTE K            MRN ...</td>\n",
       "      <td>Office Visit</td>\n",
       "      <td>Outpatient</td>\n",
       "      <td>NMPG</td>\n",
       "    </tr>\n",
       "  </tbody>\n",
       "</table>\n",
       "</div>"
      ],
      "text/plain": [
       "     cohort_id  mrd_pt_id  encntr_id             encntr_dts  \\\n",
       "0  2429.574767    4382787   25184784  2005-08-08T13:02:00.0   \n",
       "1  2429.007586    5494324   26715059  2006-04-20T06:47:00.0   \n",
       "2  2429.063776    2407530   26847798  2006-01-18T02:31:00.0   \n",
       "3  2429.369555    2468164   26916703  2006-02-07T16:37:00.0   \n",
       "4  2429.535497    2585812   26947147  2006-03-01T10:23:00.0   \n",
       "5  2429.546435    2995032   27063131  2006-01-31T13:51:00.0   \n",
       "6  2429.709518    4636775   27108528  2006-02-06T07:18:00.0   \n",
       "7  2429.553340    2102402   27129665  2006-02-16T10:43:00.0   \n",
       "8  2429.732721    4672120   27173505  2006-02-09T14:30:00.0   \n",
       "9  2429.461269    4381714   27181682  2006-02-13T09:07:00.0   \n",
       "\n",
       "                                           note_text   encntr_type  \\\n",
       "0  \\nPatient:   SANZO, VALERIE A            MRN -...  Office Visit   \n",
       "1  Olga Ramm, MD - OB/Gyn (312.695.5577)\\n\\nPatie...     Inpatient   \n",
       "2  \\nPatient:   LEONG-LEUNG, SILLIVE            M...    Outpatient   \n",
       "3  \\nPatient:   MORGAN, WENDY            MRN - 00...  Office Visit   \n",
       "4  NMPG Internal Medicine Note   Kellyn Marks, MD...  Office Visit   \n",
       "5  \\nPatient:   KANESHIRO, TERRENCE            MR...  Office Visit   \n",
       "6  Timothy Garvey, M.D.\\n\\nPatient:   AGUILAR, AN...  Office Visit   \n",
       "7  NMPG Internal Medicine Note (Julie Brandies, M...  Office Visit   \n",
       "8  \\nPatient:   GABOR, RUDY            MRN - 0003...  Office Visit   \n",
       "9  \\nPatient:   ACKMAN, LYNETTE K            MRN ...  Office Visit   \n",
       "\n",
       "  encntr_class             org  \n",
       "0   Outpatient            NMPG  \n",
       "1    Inpatient      OBSTETRICS  \n",
       "2   Outpatient  G I LABORATORY  \n",
       "3   Outpatient            NMPG  \n",
       "4   Outpatient            NMPG  \n",
       "5   Outpatient            NMPG  \n",
       "6   Outpatient            NMPG  \n",
       "7   Outpatient            NMPG  \n",
       "8   Outpatient            NMPG  \n",
       "9   Outpatient            NMPG  "
      ]
     },
     "execution_count": 6,
     "metadata": {},
     "output_type": "execute_result"
    }
   ],
   "source": [
    "notes_dedup[0:10]"
   ]
  },
  {
   "cell_type": "code",
   "execution_count": 7,
   "metadata": {
    "collapsed": false
   },
   "outputs": [
    {
     "data": {
      "text/plain": [
       "2879"
      ]
     },
     "execution_count": 7,
     "metadata": {},
     "output_type": "execute_result"
    }
   ],
   "source": [
    "len(notes_dedup['cohort_id'])"
   ]
  },
  {
   "cell_type": "code",
   "execution_count": 8,
   "metadata": {
    "collapsed": false
   },
   "outputs": [],
   "source": [
    "# write individual notes to file\n",
    "for index, row in notes_dedup.iterrows():\n",
    "    outname = filename[0:-4] + \"/\" + str(round(row['cohort_id'], 7)) + \"_\" + str(row['encntr_id']) + \".txt\"\n",
    "    with open(outname, 'w') as wf:\n",
    "        wf.write(str(row['note_text']))"
   ]
  },
  {
   "cell_type": "code",
   "execution_count": 11,
   "metadata": {
    "collapsed": false
   },
   "outputs": [
    {
     "data": {
      "text/plain": [
       "375"
      ]
     },
     "execution_count": 11,
     "metadata": {},
     "output_type": "execute_result"
    }
   ],
   "source": [
    "len(set(notes_dedup['cohort_id']))"
   ]
  },
  {
   "cell_type": "code",
   "execution_count": 12,
   "metadata": {
    "collapsed": false
   },
   "outputs": [
    {
     "data": {
      "text/plain": [
       "375"
      ]
     },
     "execution_count": 12,
     "metadata": {},
     "output_type": "execute_result"
    }
   ],
   "source": [
    "len(set(notes['cohort_id']))"
   ]
  },
  {
   "cell_type": "code",
   "execution_count": 10,
   "metadata": {
    "collapsed": false
   },
   "outputs": [],
   "source": [
    "with open(\"nmh_patients_2.csv\", \"w\") as wf:\n",
    "    for i in set(notes_dedup['cohort_id']):\n",
    "        wf.write(str(i))\n",
    "        wf.write(\"\\n\")"
   ]
  },
  {
   "cell_type": "code",
   "execution_count": null,
   "metadata": {
    "collapsed": true
   },
   "outputs": [],
   "source": []
  }
 ],
 "metadata": {
  "anaconda-cloud": {},
  "kernelspec": {
   "display_name": "Python [conda root]",
   "language": "python",
   "name": "conda-root-py"
  },
  "language_info": {
   "codemirror_mode": {
    "name": "ipython",
    "version": 3
   },
   "file_extension": ".py",
   "mimetype": "text/x-python",
   "name": "python",
   "nbconvert_exporter": "python",
   "pygments_lexer": "ipython3",
   "version": "3.5.2"
  }
 },
 "nbformat": 4,
 "nbformat_minor": 1
}
