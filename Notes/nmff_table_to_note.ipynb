{
 "cells": [
  {
   "cell_type": "code",
   "execution_count": 1,
   "metadata": {
    "collapsed": true
   },
   "outputs": [],
   "source": [
    "import pandas as pd\n",
    "import os"
   ]
  },
  {
   "cell_type": "code",
   "execution_count": 2,
   "metadata": {
    "collapsed": true
   },
   "outputs": [],
   "source": [
    "# change this!\n",
    "filename = 'notepull_030817_nmff.txt'"
   ]
  },
  {
   "cell_type": "code",
   "execution_count": 3,
   "metadata": {
    "collapsed": true
   },
   "outputs": [],
   "source": [
    "# create output directory if doesn't already exist\n",
    "if not os.path.exists(filename[0:-4]):\n",
    "    os.makedirs(filename[0:-4])"
   ]
  },
  {
   "cell_type": "code",
   "execution_count": 3,
   "metadata": {
    "collapsed": false
   },
   "outputs": [
    {
     "data": {
      "text/html": [
       "<div>\n",
       "<table border=\"1\" class=\"dataframe\">\n",
       "  <thead>\n",
       "    <tr style=\"text-align: right;\">\n",
       "      <th></th>\n",
       "      <th>mrd_pt_id</th>\n",
       "      <th>cohort_id</th>\n",
       "      <th>note_id</th>\n",
       "      <th>note_text</th>\n",
       "      <th>date</th>\n",
       "      <th>department_name</th>\n",
       "      <th>specialty</th>\n",
       "    </tr>\n",
       "  </thead>\n",
       "  <tbody>\n",
       "    <tr>\n",
       "      <th>0</th>\n",
       "      <td>﻿1906284</td>\n",
       "      <td>2429.493603</td>\n",
       "      <td>16802650</td>\n",
       "      <td>31y/o man here to establish medical care.  For...</td>\n",
       "      <td>2011-09-02 00:00:00.000</td>\n",
       "      <td>NMFF GIM ATTENDING</td>\n",
       "      <td>Internal Medicine</td>\n",
       "    </tr>\n",
       "    <tr>\n",
       "      <th>1</th>\n",
       "      <td>1906284</td>\n",
       "      <td>2429.493603</td>\n",
       "      <td>17375881</td>\n",
       "      <td>New patient    HPI: Joshua Abrons is a 32y/o C...</td>\n",
       "      <td>2011-11-21 00:00:00.000</td>\n",
       "      <td>NMFF DERMATOLOGY</td>\n",
       "      <td>Dermatology</td>\n",
       "    </tr>\n",
       "    <tr>\n",
       "      <th>2</th>\n",
       "      <td>1906284</td>\n",
       "      <td>2429.493603</td>\n",
       "      <td>17376138</td>\n",
       "      <td>Patient interviewed and examined personally. I...</td>\n",
       "      <td>2011-11-21 00:00:00.000</td>\n",
       "      <td>NMFF DERMATOLOGY</td>\n",
       "      <td>Dermatology</td>\n",
       "    </tr>\n",
       "    <tr>\n",
       "      <th>3</th>\n",
       "      <td>1906284</td>\n",
       "      <td>2429.493603</td>\n",
       "      <td>19906793</td>\n",
       "      <td>33y/o man here for physical exam.    He exerci...</td>\n",
       "      <td>2012-09-24 00:00:00.000</td>\n",
       "      <td>NMFF GIM ATTENDING</td>\n",
       "      <td>Internal Medicine</td>\n",
       "    </tr>\n",
       "  </tbody>\n",
       "</table>\n",
       "</div>"
      ],
      "text/plain": [
       "  mrd_pt_id    cohort_id   note_id  \\\n",
       "0  ﻿1906284  2429.493603  16802650   \n",
       "1   1906284  2429.493603  17375881   \n",
       "2   1906284  2429.493603  17376138   \n",
       "3   1906284  2429.493603  19906793   \n",
       "\n",
       "                                           note_text                     date  \\\n",
       "0  31y/o man here to establish medical care.  For...  2011-09-02 00:00:00.000   \n",
       "1  New patient    HPI: Joshua Abrons is a 32y/o C...  2011-11-21 00:00:00.000   \n",
       "2  Patient interviewed and examined personally. I...  2011-11-21 00:00:00.000   \n",
       "3  33y/o man here for physical exam.    He exerci...  2012-09-24 00:00:00.000   \n",
       "\n",
       "      department_name          specialty  \n",
       "0  NMFF GIM ATTENDING  Internal Medicine  \n",
       "1    NMFF DERMATOLOGY        Dermatology  \n",
       "2    NMFF DERMATOLOGY        Dermatology  \n",
       "3  NMFF GIM ATTENDING  Internal Medicine  "
      ]
     },
     "execution_count": 3,
     "metadata": {},
     "output_type": "execute_result"
    }
   ],
   "source": [
    "# read notes, add column names, show top of table\n",
    "notes = pd.read_table(filename, header = None)\n",
    "notes.columns = ['mrd_pt_id', 'cohort_id', 'note_id', 'note_text', 'date', 'department_name', 'specialty']\n",
    "notes[0:4]"
   ]
  },
  {
   "cell_type": "code",
   "execution_count": 4,
   "metadata": {
    "collapsed": false
   },
   "outputs": [
    {
     "data": {
      "text/plain": [
       "11515"
      ]
     },
     "execution_count": 4,
     "metadata": {},
     "output_type": "execute_result"
    }
   ],
   "source": [
    "len(notes['mrd_pt_id'])"
   ]
  },
  {
   "cell_type": "code",
   "execution_count": 5,
   "metadata": {
    "collapsed": false
   },
   "outputs": [],
   "source": [
    "# write individual notes to file\n",
    "for index, row in notes.iterrows():\n",
    "    outname = filename[0:-4] + \"/\" + str(round(row['cohort_id'], 7)) + \"_\" + str(row['note_id']) + \".txt\"\n",
    "    with open(outname, 'w') as wf:\n",
    "        wf.write(str(row['note_text']))"
   ]
  },
  {
   "cell_type": "code",
   "execution_count": 7,
   "metadata": {
    "collapsed": false
   },
   "outputs": [],
   "source": [
    "patients = set(notes['cohort_id'])"
   ]
  },
  {
   "cell_type": "code",
   "execution_count": 13,
   "metadata": {
    "collapsed": false
   },
   "outputs": [],
   "source": [
    "with open(\"nmff_patients.csv\", \"w\") as wf:\n",
    "    for i in patients:\n",
    "        wf.write(str(i))\n",
    "        wf.write(\"\\n\")"
   ]
  },
  {
   "cell_type": "code",
   "execution_count": 14,
   "metadata": {
    "collapsed": false
   },
   "outputs": [
    {
     "data": {
      "text/plain": [
       "{nan,\n",
       " 'Orthopaedics',\n",
       " 'Gastroenterology',\n",
       " 'Dermatology',\n",
       " 'Urogynecology',\n",
       " 'Neurological Surgery',\n",
       " 'Endocrinology',\n",
       " 'Podiatry',\n",
       " 'Hematology/Oncology',\n",
       " 'Pediatrics',\n",
       " 'Hepatology',\n",
       " 'Plastic Surgery',\n",
       " 'Bone Health',\n",
       " 'Ophthalmology',\n",
       " 'Otolaryngology',\n",
       " 'Radiology',\n",
       " 'Infectious Disease',\n",
       " 'Health Learning Center',\n",
       " 'Neurology',\n",
       " 'Urgent Care',\n",
       " 'Reproductive Genetics',\n",
       " 'Pulmonary',\n",
       " 'General Medicine Team',\n",
       " 'Surgical Oncology',\n",
       " 'Neurology/Oncology',\n",
       " 'Infusion Rheum',\n",
       " 'Cardiothoracic Surgery',\n",
       " 'Maternal Fetal Medicine',\n",
       " 'Ob/Gyn',\n",
       " 'Anesthesia/Pain',\n",
       " 'Cardiology',\n",
       " 'Psychiatry',\n",
       " 'Gynecology',\n",
       " 'General Surgery',\n",
       " 'Integrative Health',\n",
       " 'Trauma Surgery',\n",
       " 'Travel Medicine',\n",
       " 'Thoracic Surgery',\n",
       " 'Vein Center',\n",
       " 'Physical Therapy / Occupational Therapy',\n",
       " 'Onc Surgical Specialties',\n",
       " 'Geriatrics',\n",
       " 'Rheumatology',\n",
       " 'Allergy',\n",
       " 'Urology',\n",
       " 'Breast Center',\n",
       " 'Executive Health',\n",
       " 'Vascular Surgery',\n",
       " 'Nephrology',\n",
       " 'Internal Medicine',\n",
       " 'Gynecology/Oncology',\n",
       " 'Reproductive Endocrinology',\n",
       " 'Cardiopulmonary HTN',\n",
       " 'GI & Endocrine Surgery'}"
      ]
     },
     "execution_count": 14,
     "metadata": {},
     "output_type": "execute_result"
    }
   ],
   "source": [
    "set(notes['specialty'])"
   ]
  },
  {
   "cell_type": "code",
   "execution_count": null,
   "metadata": {
    "collapsed": true
   },
   "outputs": [],
   "source": []
  }
 ],
 "metadata": {
  "anaconda-cloud": {},
  "kernelspec": {
   "display_name": "Python [conda root]",
   "language": "python",
   "name": "conda-root-py"
  },
  "language_info": {
   "codemirror_mode": {
    "name": "ipython",
    "version": 3
   },
   "file_extension": ".py",
   "mimetype": "text/x-python",
   "name": "python",
   "nbconvert_exporter": "python",
   "pygments_lexer": "ipython3",
   "version": "3.5.2"
  }
 },
 "nbformat": 4,
 "nbformat_minor": 1
}
