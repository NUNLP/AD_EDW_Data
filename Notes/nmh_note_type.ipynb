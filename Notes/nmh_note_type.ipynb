{
 "cells": [
  {
   "cell_type": "code",
   "execution_count": 1,
   "metadata": {
    "collapsed": true
   },
   "outputs": [],
   "source": [
    "import pandas as pd\n",
    "import os"
   ]
  },
  {
   "cell_type": "code",
   "execution_count": 2,
   "metadata": {
    "collapsed": true
   },
   "outputs": [],
   "source": [
    "filename = \"nmh_note_departments.csv\""
   ]
  },
  {
   "cell_type": "code",
   "execution_count": 3,
   "metadata": {
    "collapsed": false
   },
   "outputs": [
    {
     "data": {
      "text/html": [
       "<div>\n",
       "<table border=\"1\" class=\"dataframe\">\n",
       "  <thead>\n",
       "    <tr style=\"text-align: right;\">\n",
       "      <th></th>\n",
       "      <th>patient_id</th>\n",
       "      <th>encntr_id</th>\n",
       "      <th>source</th>\n",
       "      <th>date</th>\n",
       "    </tr>\n",
       "  </thead>\n",
       "  <tbody>\n",
       "    <tr>\n",
       "      <th>0</th>\n",
       "      <td>2429.001897</td>\n",
       "      <td>44918998</td>\n",
       "      <td>PAC - OB</td>\n",
       "      <td>2010-03-31 14:05:00.000</td>\n",
       "    </tr>\n",
       "    <tr>\n",
       "      <th>1</th>\n",
       "      <td>2429.001897</td>\n",
       "      <td>44918998</td>\n",
       "      <td>PAC - OB</td>\n",
       "      <td>2010-03-31 14:05:00.000</td>\n",
       "    </tr>\n",
       "    <tr>\n",
       "      <th>2</th>\n",
       "      <td>2429.001897</td>\n",
       "      <td>44918998</td>\n",
       "      <td>PAC - OB</td>\n",
       "      <td>2010-03-31 14:05:00.000</td>\n",
       "    </tr>\n",
       "    <tr>\n",
       "      <th>3</th>\n",
       "      <td>2429.001897</td>\n",
       "      <td>44918998</td>\n",
       "      <td>PAC - OB</td>\n",
       "      <td>2010-03-31 14:05:00.000</td>\n",
       "    </tr>\n",
       "    <tr>\n",
       "      <th>4</th>\n",
       "      <td>2429.001897</td>\n",
       "      <td>44918998</td>\n",
       "      <td>PAC - OB</td>\n",
       "      <td>2010-03-31 14:05:00.000</td>\n",
       "    </tr>\n",
       "    <tr>\n",
       "      <th>5</th>\n",
       "      <td>2429.001897</td>\n",
       "      <td>44918998</td>\n",
       "      <td>PAC - OB</td>\n",
       "      <td>2010-03-31 14:05:00.000</td>\n",
       "    </tr>\n",
       "    <tr>\n",
       "      <th>6</th>\n",
       "      <td>2429.001897</td>\n",
       "      <td>58600314</td>\n",
       "      <td>PAC - OB</td>\n",
       "      <td>2012-05-14 19:36:00.000</td>\n",
       "    </tr>\n",
       "    <tr>\n",
       "      <th>7</th>\n",
       "      <td>2429.002049</td>\n",
       "      <td>37648549</td>\n",
       "      <td>Emergency Room</td>\n",
       "      <td>2008-05-04 11:19:00.000</td>\n",
       "    </tr>\n",
       "    <tr>\n",
       "      <th>8</th>\n",
       "      <td>2429.003768</td>\n",
       "      <td>29809159</td>\n",
       "      <td>PAC - OB</td>\n",
       "      <td>2006-09-25 11:46:00.000</td>\n",
       "    </tr>\n",
       "    <tr>\n",
       "      <th>9</th>\n",
       "      <td>2429.003768</td>\n",
       "      <td>29809159</td>\n",
       "      <td>PAC - OB</td>\n",
       "      <td>2006-09-25 11:46:00.000</td>\n",
       "    </tr>\n",
       "  </tbody>\n",
       "</table>\n",
       "</div>"
      ],
      "text/plain": [
       "    patient_id  encntr_id          source                     date\n",
       "0  2429.001897   44918998        PAC - OB  2010-03-31 14:05:00.000\n",
       "1  2429.001897   44918998        PAC - OB  2010-03-31 14:05:00.000\n",
       "2  2429.001897   44918998        PAC - OB  2010-03-31 14:05:00.000\n",
       "3  2429.001897   44918998        PAC - OB  2010-03-31 14:05:00.000\n",
       "4  2429.001897   44918998        PAC - OB  2010-03-31 14:05:00.000\n",
       "5  2429.001897   44918998        PAC - OB  2010-03-31 14:05:00.000\n",
       "6  2429.001897   58600314        PAC - OB  2012-05-14 19:36:00.000\n",
       "7  2429.002049   37648549  Emergency Room  2008-05-04 11:19:00.000\n",
       "8  2429.003768   29809159        PAC - OB  2006-09-25 11:46:00.000\n",
       "9  2429.003768   29809159        PAC - OB  2006-09-25 11:46:00.000"
      ]
     },
     "execution_count": 3,
     "metadata": {},
     "output_type": "execute_result"
    }
   ],
   "source": [
    "# read notes, add column names, show top of table\n",
    "notes = pd.read_csv(filename)\n",
    "notes.columns = ['patient_id', 'encntr_id', 'source', 'date']\n",
    "notes[0:10]"
   ]
  },
  {
   "cell_type": "code",
   "execution_count": 4,
   "metadata": {
    "collapsed": false
   },
   "outputs": [
    {
     "data": {
      "text/plain": [
       "13271"
      ]
     },
     "execution_count": 4,
     "metadata": {},
     "output_type": "execute_result"
    }
   ],
   "source": [
    "len(notes['patient_id'])"
   ]
  },
  {
   "cell_type": "code",
   "execution_count": 5,
   "metadata": {
    "collapsed": true
   },
   "outputs": [],
   "source": [
    "notes_dedup = notes.drop_duplicates(['date', 'encntr_id', 'patient_id'])\n",
    "notes_dedup = notes_dedup.reset_index(drop=True)"
   ]
  },
  {
   "cell_type": "code",
   "execution_count": 6,
   "metadata": {
    "collapsed": false
   },
   "outputs": [
    {
     "data": {
      "text/html": [
       "<div>\n",
       "<table border=\"1\" class=\"dataframe\">\n",
       "  <thead>\n",
       "    <tr style=\"text-align: right;\">\n",
       "      <th></th>\n",
       "      <th>patient_id</th>\n",
       "      <th>encntr_id</th>\n",
       "      <th>source</th>\n",
       "      <th>date</th>\n",
       "    </tr>\n",
       "  </thead>\n",
       "  <tbody>\n",
       "    <tr>\n",
       "      <th>0</th>\n",
       "      <td>2429.001897</td>\n",
       "      <td>44918998</td>\n",
       "      <td>PAC - OB</td>\n",
       "      <td>2010-03-31 14:05:00.000</td>\n",
       "    </tr>\n",
       "    <tr>\n",
       "      <th>1</th>\n",
       "      <td>2429.001897</td>\n",
       "      <td>58600314</td>\n",
       "      <td>PAC - OB</td>\n",
       "      <td>2012-05-14 19:36:00.000</td>\n",
       "    </tr>\n",
       "    <tr>\n",
       "      <th>2</th>\n",
       "      <td>2429.002049</td>\n",
       "      <td>37648549</td>\n",
       "      <td>Emergency Room</td>\n",
       "      <td>2008-05-04 11:19:00.000</td>\n",
       "    </tr>\n",
       "    <tr>\n",
       "      <th>3</th>\n",
       "      <td>2429.003768</td>\n",
       "      <td>29809159</td>\n",
       "      <td>PAC - OB</td>\n",
       "      <td>2006-09-25 11:46:00.000</td>\n",
       "    </tr>\n",
       "    <tr>\n",
       "      <th>4</th>\n",
       "      <td>2429.003768</td>\n",
       "      <td>56952370</td>\n",
       "      <td>Physician Referral</td>\n",
       "      <td>2011-09-08 12:58:30.000</td>\n",
       "    </tr>\n",
       "    <tr>\n",
       "      <th>5</th>\n",
       "      <td>2429.003768</td>\n",
       "      <td>57041601</td>\n",
       "      <td>Physician Referral</td>\n",
       "      <td>2011-09-20 10:31:16.000</td>\n",
       "    </tr>\n",
       "    <tr>\n",
       "      <th>6</th>\n",
       "      <td>2429.003768</td>\n",
       "      <td>57041670</td>\n",
       "      <td>Physician Referral</td>\n",
       "      <td>2011-09-23 13:31:27.000</td>\n",
       "    </tr>\n",
       "    <tr>\n",
       "      <th>7</th>\n",
       "      <td>2429.003768</td>\n",
       "      <td>57234689</td>\n",
       "      <td>Physician Referral</td>\n",
       "      <td>2011-09-27 10:33:42.000</td>\n",
       "    </tr>\n",
       "    <tr>\n",
       "      <th>8</th>\n",
       "      <td>2429.003768</td>\n",
       "      <td>57357922</td>\n",
       "      <td>Physician Referral</td>\n",
       "      <td>2011-10-18 10:22:40.000</td>\n",
       "    </tr>\n",
       "    <tr>\n",
       "      <th>9</th>\n",
       "      <td>2429.003768</td>\n",
       "      <td>57357948</td>\n",
       "      <td>Physician Referral</td>\n",
       "      <td>2011-10-11 10:33:33.000</td>\n",
       "    </tr>\n",
       "  </tbody>\n",
       "</table>\n",
       "</div>"
      ],
      "text/plain": [
       "    patient_id  encntr_id              source                     date\n",
       "0  2429.001897   44918998            PAC - OB  2010-03-31 14:05:00.000\n",
       "1  2429.001897   58600314            PAC - OB  2012-05-14 19:36:00.000\n",
       "2  2429.002049   37648549      Emergency Room  2008-05-04 11:19:00.000\n",
       "3  2429.003768   29809159            PAC - OB  2006-09-25 11:46:00.000\n",
       "4  2429.003768   56952370  Physician Referral  2011-09-08 12:58:30.000\n",
       "5  2429.003768   57041601  Physician Referral  2011-09-20 10:31:16.000\n",
       "6  2429.003768   57041670  Physician Referral  2011-09-23 13:31:27.000\n",
       "7  2429.003768   57234689  Physician Referral  2011-09-27 10:33:42.000\n",
       "8  2429.003768   57357922  Physician Referral  2011-10-18 10:22:40.000\n",
       "9  2429.003768   57357948  Physician Referral  2011-10-11 10:33:33.000"
      ]
     },
     "execution_count": 6,
     "metadata": {},
     "output_type": "execute_result"
    }
   ],
   "source": [
    "notes_dedup[:10]"
   ]
  },
  {
   "cell_type": "code",
   "execution_count": 7,
   "metadata": {
    "collapsed": false
   },
   "outputs": [
    {
     "data": {
      "text/plain": [
       "2879"
      ]
     },
     "execution_count": 7,
     "metadata": {},
     "output_type": "execute_result"
    }
   ],
   "source": [
    "len(notes_dedup['patient_id'])"
   ]
  },
  {
   "cell_type": "code",
   "execution_count": 9,
   "metadata": {
    "collapsed": false
   },
   "outputs": [],
   "source": [
    "derm = {}\n",
    "allergy = {}\n",
    "other = {}\n",
    "\n",
    "for i in range(0, len(notes_dedup['source'])):\n",
    "    key = str(notes_dedup['patient_id'].ix[i]) + \"_\" + str(notes_dedup['encntr_id'].ix[i]) + \".txt\"\n",
    "    if \"derm\" in str(notes_dedup['source'].ix[i]).lower():\n",
    "        derm[key] = \"derm\"#notes_dedup['source'].ix[i]\n",
    "    elif \"allerg\" in str(notes_dedup['source'].ix[i]):\n",
    "        allergy[key] = \"allergy\"#notes_dedup['source'].ix[i]\n",
    "    else:\n",
    "        other[key] = \"other\"#notes_dedup['source'].ix[i]"
   ]
  },
  {
   "cell_type": "code",
   "execution_count": 10,
   "metadata": {
    "collapsed": false
   },
   "outputs": [],
   "source": [
    "with open('nmh_note_types.txt', 'w') as wf:\n",
    "    for key in derm:\n",
    "        wf.write(key)\n",
    "        wf.write(\"\\t\")\n",
    "        wf.write(str(derm[key]))\n",
    "        wf.write(\"\\n\")\n",
    "    for key in other:\n",
    "        wf.write(key)\n",
    "        wf.write(\"\\t\")\n",
    "        wf.write(str(other[key]))\n",
    "        wf.write(\"\\n\")"
   ]
  },
  {
   "cell_type": "code",
   "execution_count": null,
   "metadata": {
    "collapsed": true
   },
   "outputs": [],
   "source": []
  }
 ],
 "metadata": {
  "anaconda-cloud": {},
  "kernelspec": {
   "display_name": "Python [conda root]",
   "language": "python",
   "name": "conda-root-py"
  },
  "language_info": {
   "codemirror_mode": {
    "name": "ipython",
    "version": 3
   },
   "file_extension": ".py",
   "mimetype": "text/x-python",
   "name": "python",
   "nbconvert_exporter": "python",
   "pygments_lexer": "ipython3",
   "version": "3.5.2"
  }
 },
 "nbformat": 4,
 "nbformat_minor": 1
}
