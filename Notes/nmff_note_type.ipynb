{
 "cells": [
  {
   "cell_type": "code",
   "execution_count": 1,
   "metadata": {
    "collapsed": true
   },
   "outputs": [],
   "source": [
    "import pandas as pd\n",
    "import os"
   ]
  },
  {
   "cell_type": "code",
   "execution_count": 2,
   "metadata": {
    "collapsed": true
   },
   "outputs": [],
   "source": [
    "filename = \"nmff_note_departments.csv\""
   ]
  },
  {
   "cell_type": "code",
   "execution_count": 3,
   "metadata": {
    "collapsed": false
   },
   "outputs": [
    {
     "data": {
      "text/html": [
       "<div>\n",
       "<table border=\"1\" class=\"dataframe\">\n",
       "  <thead>\n",
       "    <tr style=\"text-align: right;\">\n",
       "      <th></th>\n",
       "      <th>patient_id</th>\n",
       "      <th>encntr_id</th>\n",
       "      <th>source</th>\n",
       "    </tr>\n",
       "  </thead>\n",
       "  <tbody>\n",
       "    <tr>\n",
       "      <th>0</th>\n",
       "      <td>2429.001897</td>\n",
       "      <td>10806357</td>\n",
       "      <td>NMFF OBSTETRICS &amp; GYNECOLOGY</td>\n",
       "    </tr>\n",
       "    <tr>\n",
       "      <th>1</th>\n",
       "      <td>2429.001897</td>\n",
       "      <td>11093058</td>\n",
       "      <td>NMFF OBSTETRICS &amp; GYNECOLOGY</td>\n",
       "    </tr>\n",
       "    <tr>\n",
       "      <th>2</th>\n",
       "      <td>2429.001897</td>\n",
       "      <td>11308300</td>\n",
       "      <td>NMFF REPRODUCTIVE GENETICS</td>\n",
       "    </tr>\n",
       "    <tr>\n",
       "      <th>3</th>\n",
       "      <td>2429.001897</td>\n",
       "      <td>13175259</td>\n",
       "      <td>NMFF OBSTETRICS &amp; GYNECOLOGY</td>\n",
       "    </tr>\n",
       "    <tr>\n",
       "      <th>4</th>\n",
       "      <td>2429.001897</td>\n",
       "      <td>13441559</td>\n",
       "      <td>NMFF OBSTETRICS &amp; GYNECOLOGY</td>\n",
       "    </tr>\n",
       "    <tr>\n",
       "      <th>5</th>\n",
       "      <td>2429.001897</td>\n",
       "      <td>13655474</td>\n",
       "      <td>NMFF OBSTETRICS &amp; GYNECOLOGY</td>\n",
       "    </tr>\n",
       "    <tr>\n",
       "      <th>6</th>\n",
       "      <td>2429.001897</td>\n",
       "      <td>13994273</td>\n",
       "      <td>NMFF OBSTETRICS &amp; GYNECOLOGY</td>\n",
       "    </tr>\n",
       "    <tr>\n",
       "      <th>7</th>\n",
       "      <td>2429.001897</td>\n",
       "      <td>14604241</td>\n",
       "      <td>NMFF OBSTETRICS &amp; GYNECOLOGY</td>\n",
       "    </tr>\n",
       "    <tr>\n",
       "      <th>8</th>\n",
       "      <td>2429.001897</td>\n",
       "      <td>17034097</td>\n",
       "      <td>NMFF OBSTETRICS &amp; GYNECOLOGY</td>\n",
       "    </tr>\n",
       "    <tr>\n",
       "      <th>9</th>\n",
       "      <td>2429.001897</td>\n",
       "      <td>17113528</td>\n",
       "      <td>NMFF OBSTETRICS &amp; GYNECOLOGY</td>\n",
       "    </tr>\n",
       "  </tbody>\n",
       "</table>\n",
       "</div>"
      ],
      "text/plain": [
       "    patient_id  encntr_id                        source\n",
       "0  2429.001897   10806357  NMFF OBSTETRICS & GYNECOLOGY\n",
       "1  2429.001897   11093058  NMFF OBSTETRICS & GYNECOLOGY\n",
       "2  2429.001897   11308300    NMFF REPRODUCTIVE GENETICS\n",
       "3  2429.001897   13175259  NMFF OBSTETRICS & GYNECOLOGY\n",
       "4  2429.001897   13441559  NMFF OBSTETRICS & GYNECOLOGY\n",
       "5  2429.001897   13655474  NMFF OBSTETRICS & GYNECOLOGY\n",
       "6  2429.001897   13994273  NMFF OBSTETRICS & GYNECOLOGY\n",
       "7  2429.001897   14604241  NMFF OBSTETRICS & GYNECOLOGY\n",
       "8  2429.001897   17034097  NMFF OBSTETRICS & GYNECOLOGY\n",
       "9  2429.001897   17113528  NMFF OBSTETRICS & GYNECOLOGY"
      ]
     },
     "execution_count": 3,
     "metadata": {},
     "output_type": "execute_result"
    }
   ],
   "source": [
    "# read notes, add column names, show top of table\n",
    "notes = pd.read_csv(filename)\n",
    "notes.columns = ['patient_id', 'encntr_id', 'source']\n",
    "notes[0:10]"
   ]
  },
  {
   "cell_type": "code",
   "execution_count": 4,
   "metadata": {
    "collapsed": false
   },
   "outputs": [
    {
     "data": {
      "text/plain": [
       "11515"
      ]
     },
     "execution_count": 4,
     "metadata": {},
     "output_type": "execute_result"
    }
   ],
   "source": [
    "len(notes['patient_id'])"
   ]
  },
  {
   "cell_type": "code",
   "execution_count": 6,
   "metadata": {
    "collapsed": false
   },
   "outputs": [],
   "source": [
    "derm = {}\n",
    "allergy = {}\n",
    "other = {}\n",
    "\n",
    "for i in range(0, len(notes['source'])):\n",
    "    key = str(notes['patient_id'].ix[i]) + \"_\" + str(notes['encntr_id'].ix[i]) + \".txt\"\n",
    "    if \"derm\" in str(notes['source'].ix[i]).lower():\n",
    "        derm[key] = \"derm\"#notes['source'].ix[i]\n",
    "    elif \"allerg\" in str(notes['source'].ix[i].lower()):\n",
    "        allergy[key] = \"allergy\"#notes['source'].ix[i]\n",
    "    else:\n",
    "        other[key] = \"other\"#notes['source'].ix[i]"
   ]
  },
  {
   "cell_type": "code",
   "execution_count": 7,
   "metadata": {
    "collapsed": false
   },
   "outputs": [],
   "source": [
    "with open('nmff_note_types.txt', 'w') as wf:\n",
    "    for key in derm:\n",
    "        wf.write(key)\n",
    "        wf.write(\"\\t\")\n",
    "        wf.write(str(derm[key]))\n",
    "        wf.write(\"\\n\")\n",
    "    for key in allergy:\n",
    "        wf.write(key)\n",
    "        wf.write(\"\\t\")\n",
    "        wf.write(str(allergy[key]))\n",
    "        wf.write(\"\\n\")\n",
    "    for key in other:\n",
    "        wf.write(key)\n",
    "        wf.write(\"\\t\")\n",
    "        wf.write(str(other[key]))\n",
    "        wf.write(\"\\n\")"
   ]
  },
  {
   "cell_type": "code",
   "execution_count": null,
   "metadata": {
    "collapsed": true
   },
   "outputs": [],
   "source": []
  }
 ],
 "metadata": {
  "anaconda-cloud": {},
  "kernelspec": {
   "display_name": "Python [conda root]",
   "language": "python",
   "name": "conda-root-py"
  },
  "language_info": {
   "codemirror_mode": {
    "name": "ipython",
    "version": 3
   },
   "file_extension": ".py",
   "mimetype": "text/x-python",
   "name": "python",
   "nbconvert_exporter": "python",
   "pygments_lexer": "ipython3",
   "version": "3.5.2"
  }
 },
 "nbformat": 4,
 "nbformat_minor": 1
}
