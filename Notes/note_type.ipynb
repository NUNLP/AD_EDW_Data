{
 "cells": [
  {
   "cell_type": "code",
   "execution_count": 15,
   "metadata": {
    "collapsed": true
   },
   "outputs": [],
   "source": [
    "from os import listdir\n",
    "from os.path import isfile, join\n",
    "import pandas as pd"
   ]
  },
  {
   "cell_type": "code",
   "execution_count": 43,
   "metadata": {
    "collapsed": false
   },
   "outputs": [],
   "source": [
    "dermNotes = [f for f in listdir(\"notepull_022817_allPatients_dermOnly\") if isfile(join(\"notepull_022817_allPatients_dermOnly\", f))]\n",
    "dermIndex = list(range(0, len(dermNotes)))"
   ]
  },
  {
   "cell_type": "code",
   "execution_count": 44,
   "metadata": {
    "collapsed": false
   },
   "outputs": [],
   "source": [
    "otherNotes = [f for f in listdir(\"notepull_030317_allPatients_allButDerm\") if isfile(join(\"notepull_030317_allPatients_allButDerm\", f))]\n",
    "otherIndex = list(range(len(dermNotes), len(otherNotes)+len(dermNotes)))"
   ]
  },
  {
   "cell_type": "code",
   "execution_count": 45,
   "metadata": {
    "collapsed": true
   },
   "outputs": [],
   "source": [
    "allNotes = dermNotes + otherNotes\n",
    "allIndex = dermIndex + otherIndex"
   ]
  },
  {
   "cell_type": "code",
   "execution_count": 47,
   "metadata": {
    "collapsed": false
   },
   "outputs": [
    {
     "data": {
      "text/plain": [
       "'2429.0018974_17806936.txt'"
      ]
     },
     "execution_count": 47,
     "metadata": {},
     "output_type": "execute_result"
    }
   ],
   "source": [
    "allNotes[allIndex[0]]"
   ]
  },
  {
   "cell_type": "code",
   "execution_count": 49,
   "metadata": {
    "collapsed": true
   },
   "outputs": [],
   "source": [
    "with open(\"note_types.txt\", \"w\") as wf:\n",
    "    for index in allIndex:\n",
    "        if index <= len(dermNotes):\n",
    "            wf.write(allNotes[index] + \"\\tderm\")\n",
    "            wf.write(\"\\n\")\n",
    "        else:\n",
    "            wf.write(allNotes[index] + \"\\tother\")\n",
    "            wf.write(\"\\n\")\n",
    "    "
   ]
  },
  {
   "cell_type": "code",
   "execution_count": null,
   "metadata": {
    "collapsed": true
   },
   "outputs": [],
   "source": []
  }
 ],
 "metadata": {
  "anaconda-cloud": {},
  "kernelspec": {
   "display_name": "Python [conda root]",
   "language": "python",
   "name": "conda-root-py"
  },
  "language_info": {
   "codemirror_mode": {
    "name": "ipython",
    "version": 3
   },
   "file_extension": ".py",
   "mimetype": "text/x-python",
   "name": "python",
   "nbconvert_exporter": "python",
   "pygments_lexer": "ipython3",
   "version": "3.5.2"
  }
 },
 "nbformat": 4,
 "nbformat_minor": 1
}
